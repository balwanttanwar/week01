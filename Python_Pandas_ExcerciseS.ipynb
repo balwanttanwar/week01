{
  "nbformat": 4,
  "nbformat_minor": 0,
  "metadata": {
    "colab": {
      "name": "Python Pandas ExcerciseS",
      "provenance": [],
      "toc_visible": true,
      "authorship_tag": "ABX9TyOWk7YJ2qGupMJkLD+7H/tC",
      "include_colab_link": true
    },
    "kernelspec": {
      "name": "python3",
      "display_name": "Python 3"
    }
  },
  "cells": [
    {
      "cell_type": "markdown",
      "metadata": {
        "id": "view-in-github",
        "colab_type": "text"
      },
      "source": [
        "<a href=\"https://colab.research.google.com/github/balwanttanwar/week01/blob/master/Python_Pandas_ExcerciseS.ipynb\" target=\"_parent\"><img src=\"https://colab.research.google.com/assets/colab-badge.svg\" alt=\"Open In Colab\"/></a>"
      ]
    },
    {
      "cell_type": "markdown",
      "metadata": {
        "id": "ulTI377qiHG4",
        "colab_type": "text"
      },
      "source": [
        ""
      ]
    },
    {
      "cell_type": "code",
      "metadata": {
        "id": "mDFmmh0yMsky",
        "colab_type": "code",
        "colab": {}
      },
      "source": [
        "import numpy as np\n",
        "import pandas as pd"
      ],
      "execution_count": null,
      "outputs": []
    },
    {
      "cell_type": "code",
      "metadata": {
        "id": "1MungSNNNn8z",
        "colab_type": "code",
        "colab": {}
      },
      "source": [
        "#work with csv file\n",
        "# syntex : dataframe = pd.read_csv(filename.csv)\n",
        "df = pd.read_csv('https://raw.githubusercontent.com/btkhimsar/MachineLearning-Example/master/CardiacStats.csv')"
      ],
      "execution_count": null,
      "outputs": []
    },
    {
      "cell_type": "code",
      "metadata": {
        "id": "yORIgvEEN6sz",
        "colab_type": "code",
        "colab": {
          "base_uri": "https://localhost:8080/",
          "height": 204
        },
        "outputId": "a5a561db-458f-4e31-b9eb-a628d1d00d09"
      },
      "source": [
        "#show first 5 data values\n",
        "df.head(5)"
      ],
      "execution_count": null,
      "outputs": [
        {
          "output_type": "execute_result",
          "data": {
            "text/html": [
              "<div>\n",
              "<style scoped>\n",
              "    .dataframe tbody tr th:only-of-type {\n",
              "        vertical-align: middle;\n",
              "    }\n",
              "\n",
              "    .dataframe tbody tr th {\n",
              "        vertical-align: top;\n",
              "    }\n",
              "\n",
              "    .dataframe thead th {\n",
              "        text-align: right;\n",
              "    }\n",
              "</style>\n",
              "<table border=\"1\" class=\"dataframe\">\n",
              "  <thead>\n",
              "    <tr style=\"text-align: right;\">\n",
              "      <th></th>\n",
              "      <th>age</th>\n",
              "      <th>sex</th>\n",
              "      <th>Province</th>\n",
              "      <th>cp</th>\n",
              "      <th>trestbps</th>\n",
              "      <th>chol</th>\n",
              "      <th>fbs</th>\n",
              "      <th>restecg</th>\n",
              "      <th>thalach</th>\n",
              "      <th>exang</th>\n",
              "      <th>oldpeak</th>\n",
              "      <th>slope</th>\n",
              "      <th>ca</th>\n",
              "      <th>thal</th>\n",
              "      <th>target</th>\n",
              "    </tr>\n",
              "  </thead>\n",
              "  <tbody>\n",
              "    <tr>\n",
              "      <th>0</th>\n",
              "      <td>63</td>\n",
              "      <td>Male</td>\n",
              "      <td>Andhra Pradesh</td>\n",
              "      <td>asymptomatic</td>\n",
              "      <td>145</td>\n",
              "      <td>233</td>\n",
              "      <td>True</td>\n",
              "      <td>FALSE</td>\n",
              "      <td>150</td>\n",
              "      <td>0</td>\n",
              "      <td>2.3</td>\n",
              "      <td>0</td>\n",
              "      <td>0</td>\n",
              "      <td>1</td>\n",
              "      <td>Effected</td>\n",
              "    </tr>\n",
              "    <tr>\n",
              "      <th>1</th>\n",
              "      <td>37</td>\n",
              "      <td>Male</td>\n",
              "      <td>Arunachal Pradesh</td>\n",
              "      <td>non-anginal pain</td>\n",
              "      <td>130</td>\n",
              "      <td>250</td>\n",
              "      <td>False</td>\n",
              "      <td>TRUE</td>\n",
              "      <td>187</td>\n",
              "      <td>0</td>\n",
              "      <td>3.5</td>\n",
              "      <td>0</td>\n",
              "      <td>0</td>\n",
              "      <td>2</td>\n",
              "      <td>Effected</td>\n",
              "    </tr>\n",
              "    <tr>\n",
              "      <th>2</th>\n",
              "      <td>41</td>\n",
              "      <td>Female</td>\n",
              "      <td>Assam</td>\n",
              "      <td>atypical angina</td>\n",
              "      <td>130</td>\n",
              "      <td>204</td>\n",
              "      <td>False</td>\n",
              "      <td>FALSE</td>\n",
              "      <td>172</td>\n",
              "      <td>0</td>\n",
              "      <td>1.4</td>\n",
              "      <td>2</td>\n",
              "      <td>0</td>\n",
              "      <td>2</td>\n",
              "      <td>Effected</td>\n",
              "    </tr>\n",
              "    <tr>\n",
              "      <th>3</th>\n",
              "      <td>56</td>\n",
              "      <td>Male</td>\n",
              "      <td>Bihar</td>\n",
              "      <td>atypical angina</td>\n",
              "      <td>120</td>\n",
              "      <td>236</td>\n",
              "      <td>False</td>\n",
              "      <td>TRUE</td>\n",
              "      <td>178</td>\n",
              "      <td>0</td>\n",
              "      <td>0.8</td>\n",
              "      <td>2</td>\n",
              "      <td>0</td>\n",
              "      <td>2</td>\n",
              "      <td>Effected</td>\n",
              "    </tr>\n",
              "    <tr>\n",
              "      <th>4</th>\n",
              "      <td>57</td>\n",
              "      <td>Female</td>\n",
              "      <td>Chhattisgarh</td>\n",
              "      <td>typical angina</td>\n",
              "      <td>120</td>\n",
              "      <td>354</td>\n",
              "      <td>False</td>\n",
              "      <td>TRUE</td>\n",
              "      <td>163</td>\n",
              "      <td>1</td>\n",
              "      <td>0.6</td>\n",
              "      <td>2</td>\n",
              "      <td>0</td>\n",
              "      <td>2</td>\n",
              "      <td>Effected</td>\n",
              "    </tr>\n",
              "  </tbody>\n",
              "</table>\n",
              "</div>"
            ],
            "text/plain": [
              "   age     sex           Province                cp  ...  slope  ca  thal    target\n",
              "0   63    Male     Andhra Pradesh      asymptomatic  ...      0   0     1  Effected\n",
              "1   37    Male  Arunachal Pradesh  non-anginal pain  ...      0   0     2  Effected\n",
              "2   41  Female              Assam   atypical angina  ...      2   0     2  Effected\n",
              "3   56    Male              Bihar   atypical angina  ...      2   0     2  Effected\n",
              "4   57  Female       Chhattisgarh    typical angina  ...      2   0     2  Effected\n",
              "\n",
              "[5 rows x 15 columns]"
            ]
          },
          "metadata": {
            "tags": []
          },
          "execution_count": 3
        }
      ]
    },
    {
      "cell_type": "code",
      "metadata": {
        "id": "4MA0nuyEOZ75",
        "colab_type": "code",
        "colab": {
          "base_uri": "https://localhost:8080/",
          "height": 204
        },
        "outputId": "e23f5b14-0d3a-4a8c-ae1c-f6227cfe1ef0"
      },
      "source": [
        "#show last 5 data values\n",
        "df.tail(5)"
      ],
      "execution_count": null,
      "outputs": [
        {
          "output_type": "execute_result",
          "data": {
            "text/html": [
              "<div>\n",
              "<style scoped>\n",
              "    .dataframe tbody tr th:only-of-type {\n",
              "        vertical-align: middle;\n",
              "    }\n",
              "\n",
              "    .dataframe tbody tr th {\n",
              "        vertical-align: top;\n",
              "    }\n",
              "\n",
              "    .dataframe thead th {\n",
              "        text-align: right;\n",
              "    }\n",
              "</style>\n",
              "<table border=\"1\" class=\"dataframe\">\n",
              "  <thead>\n",
              "    <tr style=\"text-align: right;\">\n",
              "      <th></th>\n",
              "      <th>age</th>\n",
              "      <th>sex</th>\n",
              "      <th>Province</th>\n",
              "      <th>cp</th>\n",
              "      <th>trestbps</th>\n",
              "      <th>chol</th>\n",
              "      <th>fbs</th>\n",
              "      <th>restecg</th>\n",
              "      <th>thalach</th>\n",
              "      <th>exang</th>\n",
              "      <th>oldpeak</th>\n",
              "      <th>slope</th>\n",
              "      <th>ca</th>\n",
              "      <th>thal</th>\n",
              "      <th>target</th>\n",
              "    </tr>\n",
              "  </thead>\n",
              "  <tbody>\n",
              "    <tr>\n",
              "      <th>298</th>\n",
              "      <td>57</td>\n",
              "      <td>Female</td>\n",
              "      <td>Himachal Pradesh</td>\n",
              "      <td>typical angina</td>\n",
              "      <td>140</td>\n",
              "      <td>241</td>\n",
              "      <td>False</td>\n",
              "      <td>TRUE</td>\n",
              "      <td>123</td>\n",
              "      <td>1</td>\n",
              "      <td>0.2</td>\n",
              "      <td>1</td>\n",
              "      <td>0</td>\n",
              "      <td>3</td>\n",
              "      <td>Not Effected</td>\n",
              "    </tr>\n",
              "    <tr>\n",
              "      <th>299</th>\n",
              "      <td>45</td>\n",
              "      <td>Male</td>\n",
              "      <td>Goa</td>\n",
              "      <td>asymptomatic</td>\n",
              "      <td>110</td>\n",
              "      <td>264</td>\n",
              "      <td>False</td>\n",
              "      <td>TRUE</td>\n",
              "      <td>132</td>\n",
              "      <td>0</td>\n",
              "      <td>1.2</td>\n",
              "      <td>1</td>\n",
              "      <td>0</td>\n",
              "      <td>3</td>\n",
              "      <td>Not Effected</td>\n",
              "    </tr>\n",
              "    <tr>\n",
              "      <th>300</th>\n",
              "      <td>68</td>\n",
              "      <td>Male</td>\n",
              "      <td>Sikkim</td>\n",
              "      <td>typical angina</td>\n",
              "      <td>144</td>\n",
              "      <td>193</td>\n",
              "      <td>True</td>\n",
              "      <td>TRUE</td>\n",
              "      <td>141</td>\n",
              "      <td>0</td>\n",
              "      <td>3.4</td>\n",
              "      <td>1</td>\n",
              "      <td>2</td>\n",
              "      <td>3</td>\n",
              "      <td>Not Effected</td>\n",
              "    </tr>\n",
              "    <tr>\n",
              "      <th>301</th>\n",
              "      <td>57</td>\n",
              "      <td>Male</td>\n",
              "      <td>Gujarat</td>\n",
              "      <td>typical angina</td>\n",
              "      <td>130</td>\n",
              "      <td>131</td>\n",
              "      <td>False</td>\n",
              "      <td>TRUE</td>\n",
              "      <td>115</td>\n",
              "      <td>1</td>\n",
              "      <td>1.2</td>\n",
              "      <td>1</td>\n",
              "      <td>1</td>\n",
              "      <td>3</td>\n",
              "      <td>Not Effected</td>\n",
              "    </tr>\n",
              "    <tr>\n",
              "      <th>302</th>\n",
              "      <td>57</td>\n",
              "      <td>Female</td>\n",
              "      <td>Telangana</td>\n",
              "      <td>atypical angina</td>\n",
              "      <td>130</td>\n",
              "      <td>236</td>\n",
              "      <td>False</td>\n",
              "      <td>FALSE</td>\n",
              "      <td>174</td>\n",
              "      <td>0</td>\n",
              "      <td>0.0</td>\n",
              "      <td>1</td>\n",
              "      <td>1</td>\n",
              "      <td>2</td>\n",
              "      <td>Not Effected</td>\n",
              "    </tr>\n",
              "  </tbody>\n",
              "</table>\n",
              "</div>"
            ],
            "text/plain": [
              "     age     sex          Province  ... ca  thal        target\n",
              "298   57  Female  Himachal Pradesh  ...  0     3  Not Effected\n",
              "299   45    Male               Goa  ...  0     3  Not Effected\n",
              "300   68    Male            Sikkim  ...  2     3  Not Effected\n",
              "301   57    Male           Gujarat  ...  1     3  Not Effected\n",
              "302   57  Female         Telangana  ...  1     2  Not Effected\n",
              "\n",
              "[5 rows x 15 columns]"
            ]
          },
          "metadata": {
            "tags": []
          },
          "execution_count": 4
        }
      ]
    },
    {
      "cell_type": "code",
      "metadata": {
        "id": "d5YEXXH-OkRQ",
        "colab_type": "code",
        "colab": {
          "base_uri": "https://localhost:8080/",
          "height": 68
        },
        "outputId": "51dd40fb-6d9c-4b3a-a2fd-419064e8813f"
      },
      "source": [
        "#show columns\n",
        "print (df.columns)"
      ],
      "execution_count": null,
      "outputs": [
        {
          "output_type": "stream",
          "text": [
            "Index(['age', 'sex', 'Province', 'cp', 'trestbps', 'chol', 'fbs', 'restecg',\n",
            "       'thalach', 'exang', 'oldpeak', 'slope', 'ca', 'thal', 'target'],\n",
            "      dtype='object')\n"
          ],
          "name": "stdout"
        }
      ]
    },
    {
      "cell_type": "code",
      "metadata": {
        "id": "XAymOW-SOuUp",
        "colab_type": "code",
        "colab": {
          "base_uri": "https://localhost:8080/",
          "height": 153
        },
        "outputId": "3dc2cdea-e73a-4d0c-ccdc-988f2f2cde5d"
      },
      "source": [
        "#Remove heading from dataframe\n",
        "df = pd.read_csv('https://raw.githubusercontent.com/btkhimsar/MachineLearning-Example/master/CardiacStats.csv',skiprows=1)\n",
        "print (df.head(5))"
      ],
      "execution_count": null,
      "outputs": [
        {
          "output_type": "stream",
          "text": [
            "   63    Male     Andhra Pradesh      asymptomatic  ...  0.1  0.2  1  Effected\n",
            "0  37    Male  Arunachal Pradesh  non-anginal pain  ...    0    0  2  Effected\n",
            "1  41  Female              Assam   atypical angina  ...    2    0  2  Effected\n",
            "2  56    Male              Bihar   atypical angina  ...    2    0  2  Effected\n",
            "3  57  Female       Chhattisgarh    typical angina  ...    2    0  2  Effected\n",
            "4  57    Male          Karnataka    typical angina  ...    1    0  1  Effected\n",
            "\n",
            "[5 rows x 15 columns]\n"
          ],
          "name": "stdout"
        }
      ]
    },
    {
      "cell_type": "code",
      "metadata": {
        "id": "ldrGDPipPToA",
        "colab_type": "code",
        "colab": {
          "base_uri": "https://localhost:8080/",
          "height": 170
        },
        "outputId": "ac4f150a-87a6-4016-e879-853793513fdb"
      },
      "source": [
        "#choose any columns as index\n",
        "df = pd.read_csv('https://raw.githubusercontent.com/btkhimsar/MachineLearning-Example/master/CardiacStats.csv',index_col='Province')\n",
        "print (df.head(5))"
      ],
      "execution_count": null,
      "outputs": [
        {
          "output_type": "stream",
          "text": [
            "                   age     sex                cp  ...  ca  thal    target\n",
            "Province                                          ...                    \n",
            "Andhra Pradesh      63    Male      asymptomatic  ...   0     1  Effected\n",
            "Arunachal Pradesh   37    Male  non-anginal pain  ...   0     2  Effected\n",
            "Assam               41  Female   atypical angina  ...   0     2  Effected\n",
            "Bihar               56    Male   atypical angina  ...   0     2  Effected\n",
            "Chhattisgarh        57  Female    typical angina  ...   0     2  Effected\n",
            "\n",
            "[5 rows x 14 columns]\n"
          ],
          "name": "stdout"
        }
      ]
    },
    {
      "cell_type": "markdown",
      "metadata": {
        "id": "3ym9aXGnSZaj",
        "colab_type": "text"
      },
      "source": [
        "##Handling Missing Value##\n"
      ]
    },
    {
      "cell_type": "markdown",
      "metadata": {
        "id": "L4LB4jwnSwSx",
        "colab_type": "text"
      },
      "source": [
        "#NaN= Not a number\n",
        "#all these strings are considerd as default NaN values by Pandas\n",
        "-> #N/A, #N/A N/A, #NA, -1#IND, -1#QNAN, -NaN,-nan,N/A, NULL, null, n/a,nan,1.#IND,1.#QNAN \n",
        "\n",
        "na_values=('any strings or values') funtion will consider given values as NAN values.\n",
        "\n",
        "keep_default_na=false, it will not consider any values as NAN values\n",
        "\n",
        "na_filter=false, it is used for boost the performnce\n",
        "isnull() ,it check null or NAN values in dataframe"
      ]
    },
    {
      "cell_type": "code",
      "metadata": {
        "id": "wElIU7SYThkA",
        "colab_type": "code",
        "colab": {
          "base_uri": "https://localhost:8080/",
          "height": 34
        },
        "outputId": "c7bc0e6e-db1c-426e-e0e7-088b83370be4"
      },
      "source": [
        "#calculate sum of NaN values in particular columns\n",
        "print (df['age'].isnull().sum())"
      ],
      "execution_count": null,
      "outputs": [
        {
          "output_type": "stream",
          "text": [
            "0\n"
          ],
          "name": "stdout"
        }
      ]
    },
    {
      "cell_type": "code",
      "metadata": {
        "id": "8CWZdAPyW5Ur",
        "colab_type": "code",
        "colab": {
          "base_uri": "https://localhost:8080/",
          "height": 272
        },
        "outputId": "569cd7d0-cf4e-47d6-ed94-2105be604304"
      },
      "source": [
        "#Drop function\n",
        "#drop nan values\n",
        "print (df.dropna())\n",
        "#parameter of dropna functio :how='all or any'(default=any),thresh,subset=['column_name] this will drop \n",
        "#columns if there are any nan value present"
      ],
      "execution_count": null,
      "outputs": [
        {
          "output_type": "stream",
          "text": [
            "                   age     sex                cp  ...  ca  thal        target\n",
            "Province                                          ...                        \n",
            "Andhra Pradesh      63    Male      asymptomatic  ...   0     1      Effected\n",
            "Arunachal Pradesh   37    Male  non-anginal pain  ...   0     2      Effected\n",
            "Assam               41  Female   atypical angina  ...   0     2      Effected\n",
            "Bihar               56    Male   atypical angina  ...   0     2      Effected\n",
            "Chhattisgarh        57  Female    typical angina  ...   0     2      Effected\n",
            "...                ...     ...               ...  ...  ..   ...           ...\n",
            "Himachal Pradesh    57  Female    typical angina  ...   0     3  Not Effected\n",
            "Goa                 45    Male      asymptomatic  ...   0     3  Not Effected\n",
            "Sikkim              68    Male    typical angina  ...   2     3  Not Effected\n",
            "Gujarat             57    Male    typical angina  ...   1     3  Not Effected\n",
            "Telangana           57  Female   atypical angina  ...   1     2  Not Effected\n",
            "\n",
            "[303 rows x 14 columns]\n"
          ],
          "name": "stdout"
        }
      ]
    },
    {
      "cell_type": "code",
      "metadata": {
        "id": "0xUSNRlGXjFk",
        "colab_type": "code",
        "colab": {
          "base_uri": "https://localhost:8080/",
          "height": 272
        },
        "outputId": "a3c36182-2ec2-491f-b7d2-f5c029a3768e"
      },
      "source": [
        "#fill nan value\n",
        "print (df.fillna(method='ffill'))"
      ],
      "execution_count": null,
      "outputs": [
        {
          "output_type": "stream",
          "text": [
            "                   age     sex                cp  ...  ca  thal        target\n",
            "Province                                          ...                        \n",
            "Andhra Pradesh      63    Male      asymptomatic  ...   0     1      Effected\n",
            "Arunachal Pradesh   37    Male  non-anginal pain  ...   0     2      Effected\n",
            "Assam               41  Female   atypical angina  ...   0     2      Effected\n",
            "Bihar               56    Male   atypical angina  ...   0     2      Effected\n",
            "Chhattisgarh        57  Female    typical angina  ...   0     2      Effected\n",
            "...                ...     ...               ...  ...  ..   ...           ...\n",
            "Himachal Pradesh    57  Female    typical angina  ...   0     3  Not Effected\n",
            "Goa                 45    Male      asymptomatic  ...   0     3  Not Effected\n",
            "Sikkim              68    Male    typical angina  ...   2     3  Not Effected\n",
            "Gujarat             57    Male    typical angina  ...   1     3  Not Effected\n",
            "Telangana           57  Female   atypical angina  ...   1     2  Not Effected\n",
            "\n",
            "[303 rows x 14 columns]\n"
          ],
          "name": "stdout"
        }
      ]
    },
    {
      "cell_type": "markdown",
      "metadata": {
        "id": "G5Gww-vpcK4a",
        "colab_type": "text"
      },
      "source": [
        "##Panda Replace##"
      ]
    },
    {
      "cell_type": "code",
      "metadata": {
        "id": "gDq1RarmcOgA",
        "colab_type": "code",
        "colab": {}
      },
      "source": [
        "#values to the datatfram are replaced with other value dynamocally\n",
        "#syntex : df.replace()\n",
        "#parameter : to_replace,limit,value,regex,inplace,method"
      ],
      "execution_count": null,
      "outputs": []
    },
    {
      "cell_type": "code",
      "metadata": {
        "id": "6DCdeA-XcZU4",
        "colab_type": "code",
        "colab": {
          "base_uri": "https://localhost:8080/",
          "height": 170
        },
        "outputId": "2fe47b52-b9ae-4f9f-e9e1-3d4347c875a8"
      },
      "source": [
        "df1=df.replace(0,10)\n",
        "print (df1.head(5))"
      ],
      "execution_count": null,
      "outputs": [
        {
          "output_type": "stream",
          "text": [
            "                   age     sex                cp  ...  ca  thal    target\n",
            "Province                                          ...                    \n",
            "Andhra Pradesh      63    Male      asymptomatic  ...  10     1  Effected\n",
            "Arunachal Pradesh   37    Male  non-anginal pain  ...  10     2  Effected\n",
            "Assam               41  Female   atypical angina  ...  10     2  Effected\n",
            "Bihar               56    Male   atypical angina  ...  10     2  Effected\n",
            "Chhattisgarh        57  Female    typical angina  ...  10     2  Effected\n",
            "\n",
            "[5 rows x 14 columns]\n"
          ],
          "name": "stdout"
        }
      ]
    },
    {
      "cell_type": "code",
      "metadata": {
        "id": "nMvRyRSJUeHy",
        "colab_type": "code",
        "colab": {
          "base_uri": "https://localhost:8080/",
          "height": 170
        },
        "outputId": "10d5d044-9ff4-4415-8cfc-4e0d096c9f1d"
      },
      "source": [
        "df2=df.replace(to_replace='Male',value='Men')\n",
        "print (df2.head(5))"
      ],
      "execution_count": null,
      "outputs": [
        {
          "output_type": "stream",
          "text": [
            "                   age     sex                cp  ...  ca  thal    target\n",
            "Province                                          ...                    \n",
            "Andhra Pradesh      63     Men      asymptomatic  ...   0     1  Effected\n",
            "Arunachal Pradesh   37     Men  non-anginal pain  ...   0     2  Effected\n",
            "Assam               41  Female   atypical angina  ...   0     2  Effected\n",
            "Bihar               56     Men   atypical angina  ...   0     2  Effected\n",
            "Chhattisgarh        57  Female    typical angina  ...   0     2  Effected\n",
            "\n",
            "[5 rows x 14 columns]\n"
          ],
          "name": "stdout"
        }
      ]
    },
    {
      "cell_type": "code",
      "metadata": {
        "id": "cgnAfkedVMoV",
        "colab_type": "code",
        "colab": {}
      },
      "source": [
        "#pandas date forment \n",
        "#syntex df.read_csv('file_name.csv',parse_date=['Date'])"
      ],
      "execution_count": null,
      "outputs": []
    },
    {
      "cell_type": "markdown",
      "metadata": {
        "id": "-9RBTn0OVzkE",
        "colab_type": "text"
      },
      "source": [
        "##loc and iloc in Pandas##"
      ]
    },
    {
      "cell_type": "code",
      "metadata": {
        "id": "43ZZFn5xV3Hz",
        "colab_type": "code",
        "colab": {
          "base_uri": "https://localhost:8080/",
          "height": 272
        },
        "outputId": "60138a92-6921-41a2-b919-bcd3b09e3efb"
      },
      "source": [
        "#access a group of row and columns by label(s) or a boolen array\n",
        "#syntex : df.loc()\n",
        "#loc is label-based, which means that we have to specify the name \n",
        "# of the rows and columns that we need to filter out.\n",
        "print (df.loc[df.age >= 60])"
      ],
      "execution_count": null,
      "outputs": [
        {
          "output_type": "stream",
          "text": [
            "                age     sex                cp  ...  ca  thal        target\n",
            "Province                                       ...                        \n",
            "Andhra Pradesh   63    Male      asymptomatic  ...   0     1      Effected\n",
            "Maharashtra      64    Male      asymptomatic  ...   0     2      Effected\n",
            "Nagaland         66  Female      asymptomatic  ...   0     2      Effected\n",
            "Tamil Nadu       69  Female      asymptomatic  ...   2     2      Effected\n",
            "Telangana        61    Male  non-anginal pain  ...   0     2      Effected\n",
            "...             ...     ...               ...  ...  ..   ...           ...\n",
            "Tripura          61    Male    typical angina  ...   1     3  Not Effected\n",
            "West Bengal      67    Male  non-anginal pain  ...   0     3  Not Effected\n",
            "Karnataka        63    Male    typical angina  ...   2     3  Not Effected\n",
            "Punjab           63  Female    typical angina  ...   0     2  Not Effected\n",
            "Sikkim           68    Male    typical angina  ...   2     3  Not Effected\n",
            "\n",
            "[90 rows x 14 columns]\n"
          ],
          "name": "stdout"
        }
      ]
    },
    {
      "cell_type": "code",
      "metadata": {
        "id": "OwRUEgT_WNzt",
        "colab_type": "code",
        "colab": {
          "base_uri": "https://localhost:8080/",
          "height": 85
        },
        "outputId": "57722616-5adb-4c08-d19e-f50dd274843a"
      },
      "source": [
        "# iloc is integer index-based. So here, we have to specify rows \n",
        "# and columns by their integer index.\n",
        "df4=df.iloc[[0,2],[1,3]]\n",
        "print (df4.head())"
      ],
      "execution_count": null,
      "outputs": [
        {
          "output_type": "stream",
          "text": [
            "                   sex  trestbps\n",
            "Province                        \n",
            "Andhra Pradesh    Male       145\n",
            "Assam           Female       130\n"
          ],
          "name": "stdout"
        }
      ]
    },
    {
      "cell_type": "code",
      "metadata": {
        "id": "aED2mbFpYHOp",
        "colab_type": "code",
        "colab": {}
      },
      "source": [
        ""
      ],
      "execution_count": null,
      "outputs": []
    }
  ]
}